{
 "cells": [
  {
   "cell_type": "markdown",
   "id": "ce52502a",
   "metadata": {},
   "source": [
    "# <center> LTL<sub>p</sub>  Syntax </center>"
   ]
  },
  {
   "cell_type": "markdown",
   "id": "61a767ef",
   "metadata": {},
   "source": [
    "| **Symbol**      | **Syntax**  |\n",
    "|:----------------|:------------|\n",
    "| true            | True        |\n",
    "| false           | False       |\n",
    "| [a-z][a-z0-9_]* | Atomic      |\n",
    "| &, &&           | And         |\n",
    "| \\|, \\|\\|        | Or          |\n",
    "| !, ~            | Not         |\n",
    "| ->, =>          | Implication |\n",
    "| <->, <=>        | Equivalence |\n",
    "| X               | Next        |\n",
    "| WX              | WeakNext    |\n",
    "| U               | Until       |\n",
    "| R               | Release     |\n",
    "| F               | Eventually  |\n",
    "| G               | Always      |\n"
   ]
  },
  {
   "cell_type": "code",
   "execution_count": 7,
   "id": "e48f586f",
   "metadata": {},
   "outputs": [],
   "source": [
    "#we import the main function from LTLp2DFA\n",
    "from LTLp2DFA import main"
   ]
  },
  {
   "cell_type": "code",
   "execution_count": 8,
   "id": "63571f2d",
   "metadata": {},
   "outputs": [],
   "source": [
    "#we define a formula as an example\n",
    "formula = 'G(a -> F(b))'"
   ]
  },
  {
   "cell_type": "code",
   "execution_count": 9,
   "id": "2225786a",
   "metadata": {},
   "outputs": [
    {
     "name": "stdout",
     "output_type": "stream",
     "text": [
      "{0: {'a': 1, 'b': 0, '*': 0}, 1: {'b': 0, 'a': 1, '*': 1}}\n"
     ]
    }
   ],
   "source": [
    "#we call the main function on the formula\n",
    "main('G(a -> F(b))') #the automaton is printed and an svg file is created"
   ]
  },
  {
   "cell_type": "code",
   "execution_count": 11,
   "id": "ca9ac280",
   "metadata": {
    "scrolled": true
   },
   "outputs": [
    {
     "data": {
      "image/svg+xml": [
       "<svg xmlns=\"http://www.w3.org/2000/svg\" xmlns:xlink=\"http://www.w3.org/1999/xlink\" width=\"118pt\" height=\"212pt\" viewBox=\"0.00 0.00 117.55 212.00\">\n",
       "<g id=\"graph0\" class=\"graph\" transform=\"scale(1 1) rotate(0) translate(4 208)\">\n",
       "<title>%3</title>\n",
       "<polygon fill=\"white\" stroke=\"transparent\" points=\"-4,4 -4,-208 113.55,-208 113.55,4 -4,4\"/>\n",
       "<!-- fake -->\n",
       "<g id=\"node1\" class=\"node\">\n",
       "<title>fake</title>\n",
       "</g>\n",
       "<!-- 0 -->\n",
       "<g id=\"node2\" class=\"node\">\n",
       "<title>0</title>\n",
       "<ellipse fill=\"none\" stroke=\"black\" cx=\"30.55\" cy=\"-109\" rx=\"18\" ry=\"18\"/>\n",
       "<ellipse fill=\"none\" stroke=\"black\" cx=\"30.55\" cy=\"-109\" rx=\"22\" ry=\"22\"/>\n",
       "<text text-anchor=\"middle\" x=\"30.55\" y=\"-105.3\" font-family=\"Times,serif\" font-size=\"14.00\">0</text>\n",
       "</g>\n",
       "<!-- fake&#45;&gt;0 -->\n",
       "<g id=\"edge1\" class=\"edge\">\n",
       "<title>fake-&gt;0</title>\n",
       "<path fill=\"none\" stroke=\"black\" stroke-width=\"2\" d=\"M30.55,-167.98C30.55,-160.15 30.55,-150.61 30.55,-141.54\"/>\n",
       "<polygon fill=\"black\" stroke=\"black\" stroke-width=\"2\" points=\"34.05,-141.24 30.55,-131.24 27.05,-141.24 34.05,-141.24\"/>\n",
       "</g>\n",
       "<!-- 0&#45;&gt;0 -->\n",
       "<g id=\"edge4\" class=\"edge\">\n",
       "<title>0-&gt;0</title>\n",
       "<path fill=\"none\" stroke=\"black\" d=\"M52.35,-112.69C62.11,-113.04 70.55,-111.81 70.55,-109 70.55,-107.24 67.25,-106.1 62.4,-105.58\"/>\n",
       "<polygon fill=\"black\" stroke=\"black\" points=\"62.45,-102.08 52.35,-105.31 62.26,-109.08 62.45,-102.08\"/>\n",
       "<text text-anchor=\"middle\" x=\"74.05\" y=\"-105.3\" font-family=\"Times,serif\" font-size=\"14.00\">*</text>\n",
       "</g>\n",
       "<!-- 0&#45;&gt;0 -->\n",
       "<g id=\"edge6\" class=\"edge\">\n",
       "<title>0-&gt;0</title>\n",
       "<path fill=\"none\" stroke=\"black\" d=\"M51.66,-115.31C69.64,-118.1 88.55,-115.99 88.55,-109 88.55,-103.32 76.07,-100.87 61.74,-101.64\"/>\n",
       "<polygon fill=\"black\" stroke=\"black\" points=\"61.24,-98.17 51.66,-102.69 61.97,-105.13 61.24,-98.17\"/>\n",
       "<text text-anchor=\"middle\" x=\"93.55\" y=\"-105.3\" font-family=\"Times,serif\" font-size=\"14.00\">b</text>\n",
       "</g>\n",
       "<!-- 1 -->\n",
       "<g id=\"node3\" class=\"node\">\n",
       "<title>1</title>\n",
       "<ellipse fill=\"none\" stroke=\"black\" cx=\"30.55\" cy=\"-18\" rx=\"27\" ry=\"18\"/>\n",
       "<text text-anchor=\"middle\" x=\"30.55\" y=\"-14.3\" font-family=\"Times,serif\" font-size=\"14.00\">1</text>\n",
       "</g>\n",
       "<!-- 0&#45;&gt;1 -->\n",
       "<g id=\"edge3\" class=\"edge\">\n",
       "<title>0-&gt;1</title>\n",
       "<path fill=\"none\" stroke=\"black\" d=\"M20.76,-89.16C16.56,-78.86 13.12,-65.82 15.55,-54 16.18,-50.93 17.09,-47.79 18.16,-44.72\"/>\n",
       "<polygon fill=\"black\" stroke=\"black\" points=\"21.47,-45.87 21.95,-35.29 14.97,-43.26 21.47,-45.87\"/>\n",
       "<text text-anchor=\"middle\" x=\"20.05\" y=\"-57.8\" font-family=\"Times,serif\" font-size=\"14.00\">a</text>\n",
       "</g>\n",
       "<!-- 1&#45;&gt;0 -->\n",
       "<g id=\"edge7\" class=\"edge\">\n",
       "<title>1-&gt;0</title>\n",
       "<path fill=\"none\" stroke=\"black\" d=\"M30.55,-36.07C30.55,-47.61 30.55,-63.18 30.55,-76.89\"/>\n",
       "<polygon fill=\"black\" stroke=\"black\" points=\"27.05,-76.91 30.55,-86.91 34.05,-76.91 27.05,-76.91\"/>\n",
       "<text text-anchor=\"middle\" x=\"35.55\" y=\"-57.8\" font-family=\"Times,serif\" font-size=\"14.00\">b</text>\n",
       "</g>\n",
       "<!-- 1&#45;&gt;1 -->\n",
       "<g id=\"edge2\" class=\"edge\">\n",
       "<title>1-&gt;1</title>\n",
       "<path fill=\"none\" stroke=\"black\" d=\"M57.34,-21.93C67.33,-22.06 75.55,-20.75 75.55,-18 75.55,-16.28 72.34,-15.13 67.49,-14.53\"/>\n",
       "<polygon fill=\"black\" stroke=\"black\" points=\"67.49,-11.03 57.34,-14.07 67.17,-18.02 67.49,-11.03\"/>\n",
       "<text text-anchor=\"middle\" x=\"80.05\" y=\"-14.3\" font-family=\"Times,serif\" font-size=\"14.00\">a</text>\n",
       "</g>\n",
       "<!-- 1&#45;&gt;1 -->\n",
       "<g id=\"edge5\" class=\"edge\">\n",
       "<title>1-&gt;1</title>\n",
       "<path fill=\"none\" stroke=\"black\" d=\"M55.78,-24.94C74.59,-27.37 93.55,-25.05 93.55,-18 93.55,-12.21 80.79,-9.62 65.82,-10.21\"/>\n",
       "<polygon fill=\"black\" stroke=\"black\" points=\"65.45,-6.73 55.78,-11.06 66.04,-13.7 65.45,-6.73\"/>\n",
       "<text text-anchor=\"middle\" x=\"97.05\" y=\"-14.3\" font-family=\"Times,serif\" font-size=\"14.00\">*</text>\n",
       "</g>\n",
       "</g>\n",
       "</svg>"
      ],
      "text/plain": [
       "<IPython.core.display.SVG object>"
      ]
     },
     "execution_count": 11,
     "metadata": {},
     "output_type": "execute_result"
    }
   ],
   "source": [
    "from IPython.display import SVG\n",
    "SVG(filename='DFA.svg')"
   ]
  }
 ],
 "metadata": {
  "kernelspec": {
   "display_name": "Python 3 (ipykernel)",
   "language": "python",
   "name": "python3"
  },
  "language_info": {
   "codemirror_mode": {
    "name": "ipython",
    "version": 3
   },
   "file_extension": ".py",
   "mimetype": "text/x-python",
   "name": "python",
   "nbconvert_exporter": "python",
   "pygments_lexer": "ipython3",
   "version": "3.9.13"
  }
 },
 "nbformat": 4,
 "nbformat_minor": 5
}
